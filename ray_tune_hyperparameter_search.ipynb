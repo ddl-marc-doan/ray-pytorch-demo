{
 "cells": [
  {
   "cell_type": "code",
   "execution_count": null,
   "id": "4ad1b763-58e2-4f63-aacd-32f20f6fe4ab",
   "metadata": {
    "tags": []
   },
   "outputs": [],
   "source": [
    "#First Install\n",
    "!pip install torchmetrics --quiet  --user\n",
    "!pip install pytorch_lightning --quiet  --user\n",
    "!pip install install lightning-bolts --quiet  --user\n"
   ]
  },
  {
   "cell_type": "code",
   "execution_count": null,
   "id": "c17228fb-a592-46d2-923a-dbe52a31d46e",
   "metadata": {
    "tags": []
   },
   "outputs": [],
   "source": [
    "import os\n",
    "import sys"
   ]
  },
  {
   "cell_type": "code",
   "execution_count": null,
   "id": "ab832869-8daa-4d88-bb28-44cef44db2c5",
   "metadata": {
    "tags": []
   },
   "outputs": [],
   "source": [
    "# ! pip install --user --quiet \"torchmetrics>=0.7, <0.12\" \"setuptools==67.4.0\" \"ipython[notebook]>=8.0.0, <8.12.0\" \"torch>=1.8.1, <1.14.0\" \"torchvision\" \"pytorch-lightning>=1.4, <2.0.0\""
   ]
  },
  {
   "cell_type": "markdown",
   "id": "d6d708ac-c8d6-42ba-9480-cc76b257fea2",
   "metadata": {
    "tags": []
   },
   "source": [
    "\n",
    "!pip install pytorch-lightning==1.9.0 --user --quiet\n",
    "!pip install git+https://github.com/PytorchLightning/lightning-bolts.git@master --upgrade\n",
    "#!pip install pytorch-lightning==2.0.0 --user --quiet\n",
    "!pip install lightning-bolts==0.6.0.post1 --user --quiet\n"
   ]
  },
  {
   "cell_type": "markdown",
   "id": "36f2a547-6455-4945-9018-2b46f81f7e45",
   "metadata": {
    "tags": []
   },
   "source": [
    "!pip install lightning-bolts --user --quiet"
   ]
  },
  {
   "cell_type": "code",
   "execution_count": null,
   "id": "b594ecff",
   "metadata": {
    "tags": []
   },
   "outputs": [],
   "source": [
    "import torchmetrics as tm"
   ]
  },
  {
   "cell_type": "code",
   "execution_count": null,
   "id": "a86210d2-b6c9-4e08-b6e4-de5ac860bd03",
   "metadata": {
    "tags": []
   },
   "outputs": [],
   "source": [
    "import os\n",
    "import tempfile\n",
    "import time\n",
    "\n",
    "import mlflow\n",
    "from ray import air, tune\n",
    "from ray.air import session\n",
    "#from ray.air.integrations.mlflow import MLflowLoggerCallback, setup_mlflow\n",
    "from mlflow_ray_utils.mlflow_callback import *"
   ]
  },
  {
   "cell_type": "code",
   "execution_count": null,
   "id": "42c2f22c-c279-4151-91cf-81a31827d175",
   "metadata": {
    "tags": []
   },
   "outputs": [],
   "source": [
    "def evaluation_fn(step, width, height):\n",
    "    return (0.1 + width * step / 100) ** (-1) + height * 0.1\n",
    "\n",
    "\n",
    "def train_function(config):\n",
    "    width, height = config[\"width\"], config[\"height\"]\n",
    "\n",
    "    for step in range(config.get(\"steps\", 100)):\n",
    "        # Iterative training function - can be any arbitrary training procedure\n",
    "        intermediate_score = evaluation_fn(step, width, height)\n",
    "        # Feed the score back to Tune.\n",
    "        session.report({\"iterations\": step, \"mean_loss\": intermediate_score})\n",
    "        time.sleep(0.1)"
   ]
  },
  {
   "cell_type": "code",
   "execution_count": null,
   "id": "74fb242e-548a-4aa5-9cf1-c392ba4543da",
   "metadata": {
    "tags": []
   },
   "outputs": [],
   "source": [
    "def tune_with_callback(mlflow_tracking_uri, experiment_name,finish_fast=False):\n",
    "    cb = MyMLflowLoggerCallback(\n",
    "                    tracking_uri=mlflow_tracking_uri,\n",
    "                    experiment_name=experiment_name,\n",
    "                    save_artifact=True,\n",
    "                )\n",
    "    tuner = tune.Tuner(\n",
    "        train_function,\n",
    "        tune_config=tune.TuneConfig(num_samples=5),        \n",
    "        run_config=air.RunConfig(\n",
    "            name=\"mlflow\",\n",
    "            callbacks=[\n",
    "                cb\n",
    "            ],\n",
    "        ),\n",
    "        param_space={\n",
    "            \"width\": tune.randint(10, 100),\n",
    "            \"height\": tune.randint(0, 100),\n",
    "            \"steps\": 5 if finish_fast else 100,\n",
    "        },\n",
    "    )\n",
    "    results = tuner.fit()\n",
    "    cb.log_end_parent_run()"
   ]
  },
  {
   "cell_type": "code",
   "execution_count": null,
   "id": "9dfb3675-dc5f-4b71-984c-1f1831367f3c",
   "metadata": {
    "tags": []
   },
   "outputs": [],
   "source": [
    "import mlflow\n",
    "import os\n",
    "import ray\n",
    "import logging\n",
    "from mlflow_ray_utils.mlflow_callback import *\n",
    "\n",
    "temp_dir='/tmp'\n",
    "\n",
    "if not ray.is_initialized():\n",
    "    service_host = os.environ[\"RAY_HEAD_SERVICE_HOST\"]\n",
    "    service_port = os.environ[\"RAY_HEAD_SERVICE_PORT\"]\n",
    "    address=f\"ray://{service_host}:{service_port}\"\n",
    "    #temp_dir='/mnt/data//{}/'.format(os.environ['DOMINO_PROJECT_NAME']) #set to a dataset\n",
    "    ray.init(address=address, _temp_dir=temp_dir,runtime_env={\"py_modules\": ['mlflow_ray_utils']})\n",
    "\n",
    "print('Ray Initializied')\n",
    "print(f'Ray Host={service_host} and Ray Port={service_port}')\n",
    "\n",
    "experiment_name = 'RAYv7'+'-' + os.environ['DOMINO_STARTING_USERNAME'] + '-' + os.environ['DOMINO_PROJECT_NAME']\n",
    "tune_with_callback(os.environ['CLUSTER_MLFLOW_TRACKING_URI'], experiment_name,finish_fast=True)\n",
    "\n",
    "#tune_with_setup(os.environ['CLUSTER_MLFLOW_TRACKING_URI'], experiment_name,finish_fast=True)\n",
    "df = mlflow.search_runs(\n",
    "        [mlflow.get_experiment_by_name(experiment_name).experiment_id]\n",
    "    )\n",
    "print(df)\n"
   ]
  }
 ],
 "metadata": {
  "dca-init": "true",
  "kernelspec": {
   "display_name": "Python 3 (ipykernel)",
   "language": "python",
   "name": "python3"
  },
  "language_info": {
   "codemirror_mode": {
    "name": "ipython",
    "version": 3
   },
   "file_extension": ".py",
   "mimetype": "text/x-python",
   "name": "python",
   "nbconvert_exporter": "python",
   "pygments_lexer": "ipython3",
   "version": "3.9.15"
  }
 },
 "nbformat": 4,
 "nbformat_minor": 5
}
